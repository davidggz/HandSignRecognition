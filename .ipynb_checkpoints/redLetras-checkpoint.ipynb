{
 "cells": [
  {
   "cell_type": "code",
   "execution_count": null,
   "metadata": {},
   "outputs": [],
   "source": [
    "import pandas as pd\n",
    "import numpy as np\n",
    "import keras as keras\n",
    "\n",
    "letras_train_X = np.load(\"DatasetsIAO/Letras/letras_train_X.npy\")\n",
    "letras_train_Y = np.load(\"DatasetsIAO/Letras/letras_train_Y.npy\")\n",
    "letras_test_X = np.load(\"DatasetsIAO/Letras/letras_test_X.npy\")\n",
    "letras_test_Y = np.load(\"DatasetsIAO/Letras/letras_test_Y.npy\")\n",
    "letras_val_X = np.load(\"DatasetsIAO/Letras/letras_val_X.npy\")\n",
    "letras_val_Y = np.load(\"DatasetsIAO/Letras/letras_val_Y.npy\")"
   ]
  },
  {
   "cell_type": "code",
   "execution_count": null,
   "metadata": {},
   "outputs": [],
   "source": [
    "from keras import models\n",
    "from keras import layers\n",
    "\n",
    "# Modelo de red neuronal\n",
    "model = models.Sequential()\n",
    "model.add(layers.Conv2D(16, (3, 3), activation='relu', padding='same', input_shape=(28, 28, 1)))\n",
    "model.add(layers.MaxPooling2D((2, 2)))\n",
    "model.add(layers.Conv2D(32, (3, 3), activation='relu', padding='same'))\n",
    "model.add(layers.MaxPooling2D((2, 2)))\n",
    "model.add(layers.Conv2D(64, (3, 3), activation='relu', padding='same'))\n",
    "model.add(layers.MaxPooling2D((2, 2)))\n",
    "model.add(layers.Flatten())\n",
    "#model.add(layers.Dropout(0.25))\n",
    "model.add(layers.Dense(512, activation='relu'))\n",
    "model.add(layers.Dense(25, activation='softmax'))\n",
    "          \n",
    "model.summary()"
   ]
  },
  {
   "cell_type": "code",
   "execution_count": null,
   "metadata": {},
   "outputs": [],
   "source": [
    "from keras.preprocessing.image import ImageDataGenerator\n",
    "train_datagen = ImageDataGenerator(rescale=1./255)\n",
    "val_datagen = ImageDataGenerator(rescale=1./255)\n",
    "\n",
    "train_generator = train_datagen.flow(letras_train_X, letras_train_Y, batch_size=32)\n",
    "val_generator = val_datagen.flow(letras_val_X, letras_val_Y, batch_size=32)\n",
    "\n",
    "from keras import optimizers\n",
    "\n",
    "model.compile(loss='categorical_crossentropy', \n",
    "              optimizer=optimizers.RMSprop(lr=1e-4), \n",
    "              metrics=['acc'])"
   ]
  },
  {
   "cell_type": "code",
   "execution_count": null,
   "metadata": {},
   "outputs": [],
   "source": [
    "history = model.fit_generator(\n",
    "    train_generator,\n",
    "    steps_per_epoch=letras_train_X.shape[0]//32,\n",
    "    epochs=20,\n",
    "    validation_data=val_generator,\n",
    "    validation_steps=letras_val_X.shape[0]//32\n",
    "    )"
   ]
  },
  {
   "cell_type": "code",
   "execution_count": null,
   "metadata": {},
   "outputs": [],
   "source": [
    "import matplotlib.pyplot as plt\n",
    "acc = history.history['acc']\n",
    "val_acc = history.history['val_acc']\n",
    "loss = history.history['loss']\n",
    "val_loss = history.history['val_loss']\n",
    "\n",
    "epochs = range(1, len(acc) + 1)\n",
    "\n",
    "plt.clf()\n",
    "plt.grid(linestyle='-', linewidth=1.6, alpha=0.3)\n",
    "plt.plot(epochs, acc, 'b', linewidth=1.0, label='Training acc')\n",
    "plt.plot(epochs, val_acc, 'r', linewidth=1.0, label='Validation acc')\n",
    "plt.title('Training and validation accuracy')\n",
    "plt.legend()\n",
    "plt.show()\n",
    "\n",
    "plt.clf()\n",
    "plt.grid(linestyle='-', linewidth=1.6, alpha=0.3)\n",
    "plt.plot(epochs, loss, 'b', linewidth=1.0, label='Training loss')\n",
    "plt.plot(epochs, val_loss, 'r', linewidth=1.0, label='Validation loss')\n",
    "plt.title('Training and validation loss')\n",
    "plt.legend()\n",
    "plt.show()\n"
   ]
  },
  {
   "cell_type": "code",
   "execution_count": null,
   "metadata": {},
   "outputs": [],
   "source": [
    "import tensorflow as tf\n",
    "from keras.preprocessing.image import ImageDataGenerator\n",
    "import cv2\n",
    "import keras\n",
    "import numpy as np\n",
    "from sklearn.metrics import  confusion_matrix, accuracy_score\n",
    "import seaborn as sns\n",
    "import matplotlib.pyplot as plt\n",
    "import pandas as pd\n",
    "\n",
    "model = keras.models.load_model(\"modelo.h5\")\n",
    "\n",
    "# Paso el one hot encoding a integer\n",
    "labels = np.where(letras_test_Y==1)[1]\n",
    "\n",
    "# Hago el predict en el conjunto de test\n",
    "pred = model.predict(letras_test_X, verbose=1)\n",
    "\n",
    "#pred = np.round(pred)\n",
    "pred = np.argmax(pred, axis=1)\n",
    "\n",
    "#Ahora puedo hacer la matriz de confusion\n",
    "cm = confusion_matrix(labels, pred)\n",
    "\n",
    "cm_sn = pd.DataFrame(cm)\n",
    "\n",
    "plt.figure(figsize=(20,10))\n",
    "sns.heatmap(cm_sn, annot=True, cmap='Blues', fmt='g')\n",
    "plt.title('Accuracy:{0:.3f}'.format(accuracy_score(labels, pred)))\n",
    "plt.ylabel('True value')\n",
    "plt.xlabel('Predicted value')\n",
    "plt.show()\n",
    "print(\"Test acc: \" + str(accuracy_score(labels, pred)))"
   ]
  }
 ],
 "metadata": {
  "kernelspec": {
   "display_name": "Python 3",
   "language": "python",
   "name": "python3"
  },
  "language_info": {
   "codemirror_mode": {
    "name": "ipython",
    "version": 3
   },
   "file_extension": ".py",
   "mimetype": "text/x-python",
   "name": "python",
   "nbconvert_exporter": "python",
   "pygments_lexer": "ipython3",
   "version": "3.6.8"
  }
 },
 "nbformat": 4,
 "nbformat_minor": 2
}
