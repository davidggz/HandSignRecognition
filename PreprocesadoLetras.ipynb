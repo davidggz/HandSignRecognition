{
 "cells": [
  {
   "cell_type": "raw",
   "metadata": {},
   "source": [
    "### Preprocesado para datasets de letras"
   ]
  },
  {
   "cell_type": "code",
   "execution_count": null,
   "metadata": {},
   "outputs": [],
   "source": [
    "import pandas as pd\n",
    "import numpy as np\n",
    "import keras as keras\n",
    "trainFile_letras = \"DatasetsIAO/Letras/sign_mnist_train.csv\"\n",
    "testFile_letras = \"DatasetsIAO/Letras/sign_mnist_test.csv\"\n",
    "path_npy = \"DatasetsIAO/Letras/\"\n",
    "\n",
    "# Estos tienen solo una sola salida. 24x24\n",
    "letras_train = pd.read_csv(trainFile_letras)\n",
    "letras_test = pd.read_csv(testFile_letras)"
   ]
  },
  {
   "cell_type": "code",
   "execution_count": null,
   "metadata": {},
   "outputs": [],
   "source": [
    "print(letras_train.shape)\n",
    "print(letras_test.shape)"
   ]
  },
  {
   "cell_type": "code",
   "execution_count": null,
   "metadata": {
    "scrolled": false
   },
   "outputs": [],
   "source": [
    "letras_train"
   ]
  },
  {
   "cell_type": "code",
   "execution_count": null,
   "metadata": {},
   "outputs": [],
   "source": [
    "# Concatenamos las columnas para poder manejarlas mejor al hacer shuffle\n",
    "\n",
    "from sklearn.utils import shuffle\n",
    "# Aleatorizamos las imagenes\n",
    "letras_train = shuffle(letras_train)\n",
    "\n",
    "letras_val = letras_train[:7000]\n",
    "letras_train = letras_train.drop(range(0, 7000), axis=0)"
   ]
  },
  {
   "cell_type": "code",
   "execution_count": null,
   "metadata": {},
   "outputs": [],
   "source": [
    "letras_train_Y = letras_train['label']\n",
    "letras_train_X = letras_train.drop('label', axis=1)\n",
    "\n",
    "letras_test_Y = letras_test['label']\n",
    "letras_test_X = letras_test.drop('label', axis=1)\n",
    "\n",
    "letras_val_Y = letras_val['label']\n",
    "letras_val_X = letras_val.drop('label', axis=1)"
   ]
  },
  {
   "cell_type": "code",
   "execution_count": null,
   "metadata": {},
   "outputs": [],
   "source": [
    "letras_train_Y"
   ]
  },
  {
   "cell_type": "code",
   "execution_count": null,
   "metadata": {},
   "outputs": [],
   "source": [
    "letras_train_X"
   ]
  },
  {
   "cell_type": "code",
   "execution_count": null,
   "metadata": {
    "scrolled": true
   },
   "outputs": [],
   "source": [
    "letras_val_X"
   ]
  },
  {
   "cell_type": "code",
   "execution_count": null,
   "metadata": {},
   "outputs": [],
   "source": [
    "letras_val_Y"
   ]
  },
  {
   "cell_type": "code",
   "execution_count": null,
   "metadata": {},
   "outputs": [],
   "source": [
    "letras_val"
   ]
  },
  {
   "cell_type": "code",
   "execution_count": null,
   "metadata": {},
   "outputs": [],
   "source": [
    "from keras.utils import np_utils\n",
    "\n",
    "# Hacemos el reshape para que las imagenes tengan el tamaño correcto\n",
    "letras_train_X = letras_train_X.values.reshape(letras_train_X.shape[0], 28, 28, 1)\n",
    "letras_test_X = letras_test_X.values.reshape(letras_test_X.shape[0], 28, 28, 1)\n",
    "letras_val_X = letras_val_X.values.reshape(letras_val_X.shape[0], 28, 28, 1)\n",
    "\n",
    "\n",
    "# Pasamos las salidas a one hot encoding. Aunque tenemos 24 clases\n",
    "# obtenemos un array de 25 posiciones. Esto se debe a que la J (numero\n",
    "# 9) también se tiene en cuenta, aunque no aparezca en ningún momento.\n",
    "letras_train_Y = np_utils.to_categorical(letras_train_Y)\n",
    "letras_test_Y = np_utils.to_categorical(letras_test_Y)\n",
    "letras_val_Y = np_utils.to_categorical(letras_val_Y)"
   ]
  },
  {
   "cell_type": "code",
   "execution_count": null,
   "metadata": {},
   "outputs": [],
   "source": [
    "print(letras_train_X.shape)\n",
    "print(letras_train_Y.shape)\n",
    "\n",
    "print(letras_test_X.shape)\n",
    "print(letras_test_Y.shape)\n",
    "\n",
    "print(letras_val_X.shape)\n",
    "print(letras_val_Y.shape)"
   ]
  },
  {
   "cell_type": "code",
   "execution_count": null,
   "metadata": {},
   "outputs": [],
   "source": [
    "from matplotlib import pyplot as plt\n",
    "\n",
    "example = letras_train_X[1000].reshape(28, 28)\n",
    "\n",
    "print(example.shape)\n",
    "plt.imshow(example, cmap=\"gray\")"
   ]
  },
  {
   "cell_type": "code",
   "execution_count": null,
   "metadata": {},
   "outputs": [],
   "source": [
    "from matplotlib import pyplot as plt\n",
    "\n",
    "example = letras_val_X[56].reshape(28, 28)\n",
    "\n",
    "print(example.shape)\n",
    "plt.imshow(example, cmap=\"gray\")"
   ]
  },
  {
   "cell_type": "code",
   "execution_count": null,
   "metadata": {},
   "outputs": [],
   "source": [
    "example = letras_train_X[1782].reshape(28, 28)\n",
    "\n",
    "print(example.shape)\n",
    "plt.imshow(example, cmap=\"gray\")"
   ]
  },
  {
   "cell_type": "code",
   "execution_count": null,
   "metadata": {},
   "outputs": [],
   "source": [
    "np.save(path_npy + \"letras_train_X.npy\", letras_train_X)\n",
    "np.save(path_npy + \"letras_train_Y.npy\", letras_train_Y)\n",
    "np.save(path_npy + \"letras_test_X.npy\", letras_test_X)\n",
    "np.save(path_npy + \"letras_test_Y.npy\", letras_test_Y)\n",
    "np.save(path_npy + \"letras_val_X.npy\", letras_val_X)\n",
    "np.save(path_npy + \"letras_val_Y.npy\", letras_val_Y)"
   ]
  }
 ],
 "metadata": {
  "kernelspec": {
   "display_name": "Python 3",
   "language": "python",
   "name": "python3"
  },
  "language_info": {
   "codemirror_mode": {
    "name": "ipython",
    "version": 3
   },
   "file_extension": ".py",
   "mimetype": "text/x-python",
   "name": "python",
   "nbconvert_exporter": "python",
   "pygments_lexer": "ipython3",
   "version": "3.6.8"
  }
 },
 "nbformat": 4,
 "nbformat_minor": 2
}
