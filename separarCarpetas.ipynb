{
 "cells": [
  {
   "cell_type": "code",
   "execution_count": 25,
   "metadata": {},
   "outputs": [],
   "source": [
    "import pandas as pd\n",
    "import numpy as np\n",
    "import keras as keras\n",
    "\n",
    "path_npy = \"DatasetsIAO/NumerosBien/\"\n",
    "numeros_train_X = np.load(path_npy + \"numeros_train_X.npy\")\n",
    "numeros_train_Y = np.load(path_npy + \"numeros_train_Y.npy\")\n",
    "numeros_test_X = np.load(path_npy + \"numeros_test_X.npy\")\n",
    "numeros_test_Y = np.load(path_npy + \"numeros_test_Y.npy\")\n",
    "numeros_val_X = np.load(path_npy + \"numeros_val_X.npy\")\n",
    "numeros_val_Y = np.load(path_npy + \"numeros_val_Y.npy\")"
   ]
  },
  {
   "cell_type": "code",
   "execution_count": 26,
   "metadata": {},
   "outputs": [
    {
     "data": {
      "text/plain": [
       "array([[0., 0., 0., ..., 0., 0., 0.],\n",
       "       [0., 0., 0., ..., 0., 0., 0.],\n",
       "       [0., 0., 0., ..., 0., 1., 0.],\n",
       "       ...,\n",
       "       [0., 0., 0., ..., 0., 0., 0.],\n",
       "       [0., 0., 0., ..., 0., 0., 0.],\n",
       "       [0., 0., 1., ..., 0., 0., 0.]], dtype=float32)"
      ]
     },
     "execution_count": 26,
     "metadata": {},
     "output_type": "execute_result"
    }
   ],
   "source": [
    "numeros_train_Y"
   ]
  },
  {
   "cell_type": "code",
   "execution_count": 27,
   "metadata": {},
   "outputs": [],
   "source": [
    "import os\n",
    "\n",
    "os.mkdir(\"./train\")\n",
    "os.mkdir(\"./test\")\n",
    "os.mkdir(\"./val\")\n",
    "\n",
    "for clase in range(0, 10):\n",
    "    os.mkdir(\"./train/\" + str(clase))\n",
    "    \n",
    "for clase in range(0, 10):\n",
    "    os.mkdir(\"./test/\" + str(clase))\n",
    "    \n",
    "for clase in range(0, 10):\n",
    "    os.mkdir(\"./val/\" + str(clase))"
   ]
  },
  {
   "cell_type": "code",
   "execution_count": 29,
   "metadata": {},
   "outputs": [
    {
     "data": {
      "image/png": "[encoded data removed]",
      "text/plain": [
       "<Figure size 432x288 with 1 Axes>"
      ]
     },
     "metadata": {
      "needs_background": "light"
     },
     "output_type": "display_data"
    }
   ],
   "source": [
    "import matplotlib.pyplot as plt\n",
    "import os\n",
    "import os.path\n",
    "\n",
    "for i in range(0, numeros_train_X.shape[0]):\n",
    "    plt.imshow(numeros_train_X[i].reshape(64, 64), cmap='gray')\n",
    "    \n",
    "    numero = len([name for name in os.listdir(\"./train/\" + str(np.argmax(numeros_train_Y[i])))])\n",
    "    clase = str(np.argmax(numeros_train_Y[i]))\n",
    "    directorio = \"./train/\" + clase\n",
    "    \n",
    "    plt.savefig(directorio + \"/\" + clase + \"_\" + str(numero))\n",
    "    \n",
    "for i in range(0, numeros_test_X.shape[0]):\n",
    "    plt.imshow(numeros_test_X[i].reshape(64, 64), cmap='gray')\n",
    "                \n",
    "    numero = len([name for name in os.listdir(\"./test/\" + str(np.argmax(numeros_test_Y[i])))])\n",
    "    clase = str(np.argmax(numeros_test_Y[i]))\n",
    "    directorio = \"./test/\" + clase\n",
    "    \n",
    "    plt.savefig(directorio + \"/\" + clase + \"_\" + str(numero))\n",
    "    \n",
    "for i in range(0, numeros_val_X.shape[0]):\n",
    "    plt.imshow(numeros_val_X[i].reshape(64, 64), cmap='gray')\n",
    "    \n",
    "    numero = len([name for name in os.listdir(\"./val/\" + str(np.argmax(numeros_val_Y[i])))])\n",
    "    clase = str(np.argmax(numeros_val_Y[i]))\n",
    "    directorio = \"./val/\" + clase\n",
    "    \n",
    "    plt.savefig(directorio + \"/\" + clase + \"_\" + str(numero))\n"
   ]
  },
  {
   "cell_type": "code",
   "execution_count": null,
   "metadata": {},
   "outputs": [],
   "source": []
  }
 ],
 "metadata": {
  "kernelspec": {
   "display_name": "Python 3",
   "language": "python",
   "name": "python3"
  },
  "language_info": {
   "codemirror_mode": {
    "name": "ipython",
    "version": 3
   },
   "file_extension": ".py",
   "mimetype": "text/x-python",
   "name": "python",
   "nbconvert_exporter": "python",
   "pygments_lexer": "ipython3",
   "version": "3.6.8"
  }
 },
 "nbformat": 4,
 "nbformat_minor": 2
}
